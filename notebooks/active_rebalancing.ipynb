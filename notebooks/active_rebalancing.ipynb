{
 "cells": [
  {
   "cell_type": "code",
   "execution_count": 1,
   "metadata": {
    "collapsed": false
   },
   "outputs": [
    {
     "name": "stdout",
     "output_type": "stream",
     "text": [
      "/home/wallar/projects/nyc-taxi-analysis\n"
     ]
    }
   ],
   "source": [
    "%cd /home/wallar/projects/nyc-taxi-analysis/\n",
    "%matplotlib inline"
   ]
  },
  {
   "cell_type": "code",
   "execution_count": 2,
   "metadata": {
    "collapsed": false
   },
   "outputs": [],
   "source": [
    "import pandas\n",
    "import networkx as nx\n",
    "from scripts import load_nyc_graph"
   ]
  },
  {
   "cell_type": "code",
   "execution_count": 3,
   "metadata": {
    "collapsed": false
   },
   "outputs": [
    {
     "name": "stderr",
     "output_type": "stream",
     "text": [
      "Loading NYC Graph: 100%|██████████████████████████████████████| 9452/9452 [00:05<00:00, 1592.92it/s]\n"
     ]
    }
   ],
   "source": [
    "nyc_graph = load_nyc_graph.load_nyc_graph()"
   ]
  },
  {
   "cell_type": "code",
   "execution_count": 18,
   "metadata": {
    "collapsed": false
   },
   "outputs": [
    {
     "data": {
      "text/plain": [
       "254"
      ]
     },
     "execution_count": 18,
     "metadata": {},
     "output_type": "execute_result"
    }
   ],
   "source": [
    "nx.shortest_path_length(nyc_graph, 1, 101, weight=\"week_12\")"
   ]
  },
  {
   "cell_type": "code",
   "execution_count": 38,
   "metadata": {
    "collapsed": false
   },
   "outputs": [],
   "source": [
    "G = nx.grid_2d_graph(10, 10)"
   ]
  },
  {
   "cell_type": "code",
   "execution_count": 35,
   "metadata": {
    "collapsed": false
   },
   "outputs": [],
   "source": [
    "def shortest_path(G, source, sink, weight):\n",
    "    sp = nx.shortest_path(G, source, sink, weight)\n",
    "    an_sp = list()\n",
    "    last_time = 0\n",
    "    for i in xrange(len(sp) - 1):\n",
    "        cur_time = nyc_graph.edge[sp[i]][sp[i + 1]][weight] + last_time\n",
    "        interval = (last_time, cur_time)\n",
    "        last_time = cur_time\n",
    "        an_sp.append(((sp[i], sp[i + 1]), interval))\n",
    "    return an_sp"
   ]
  },
  {
   "cell_type": "code",
   "execution_count": 34,
   "metadata": {
    "collapsed": false
   },
   "outputs": [
    {
     "data": {
      "text/plain": [
       "[((1, 4), (0, 1)),\n",
       " ((4, 8), (1, 18)),\n",
       " ((8, 14), (18, 36)),\n",
       " ((14, 6), (36, 51)),\n",
       " ((6, 10), (51, 66))]"
      ]
     },
     "execution_count": 34,
     "metadata": {},
     "output_type": "execute_result"
    }
   ],
   "source": [
    "shortest_path(nyc_graph, 1, 10, \"week_12\")"
   ]
  }
 ],
 "metadata": {
  "kernelspec": {
   "display_name": "Python 2",
   "language": "python",
   "name": "python2"
  },
  "language_info": {
   "codemirror_mode": {
    "name": "ipython",
    "version": 2
   },
   "file_extension": ".py",
   "mimetype": "text/x-python",
   "name": "python",
   "nbconvert_exporter": "python",
   "pygments_lexer": "ipython2",
   "version": "2.7.6"
  }
 },
 "nbformat": 4,
 "nbformat_minor": 0
}
