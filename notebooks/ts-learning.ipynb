{
 "cells": [
  {
   "cell_type": "code",
   "execution_count": 72,
   "metadata": {
    "collapsed": false
   },
   "outputs": [
    {
     "name": "stdout",
     "output_type": "stream",
     "text": [
      "/home/wallar/projects/nyc-taxi-analysis\n"
     ]
    }
   ],
   "source": [
    "%matplotlib inline\n",
    "%cd /home/wallar/projects/nyc-taxi-analysis/"
   ]
  },
  {
   "cell_type": "code",
   "execution_count": 120,
   "metadata": {
    "collapsed": true
   },
   "outputs": [],
   "source": [
    "import pandas as pd\n",
    "import numpy as np\n",
    "import matplotlib.pyplot as plt\n",
    "import seaborn as sns\n",
    "import tqdm\n",
    "from sklearn.neighbors import BallTree"
   ]
  },
  {
   "cell_type": "code",
   "execution_count": 142,
   "metadata": {
    "collapsed": false
   },
   "outputs": [],
   "source": [
    "data_fname = \"/home/wallar/fast_data/nyc_taxi_data.csv.gz\"\n",
    "df_options = {\"nrows\": 3000000,\n",
    "              \"parse_dates\": [\"pickup_datetime\", \"dropoff_datetime\"],\n",
    "              \"infer_datetime_format\": True,\n",
    "              \"skip_blank_lines\": True}\n",
    "data = pd.read_csv(data_fname, **df_options)\n",
    "data.dropna(inplace=True)\n",
    "stations = pd.read_csv(\"data/stations.csv\")\n",
    "n_stations = stations.shape[0]\n",
    "rad_sts = np.radians(stations.as_matrix([\"lng\", \"lat\"]))\n",
    "stations_kd = BallTree(rad_sts, metric=\"haversine\")"
   ]
  },
  {
   "cell_type": "code",
   "execution_count": 143,
   "metadata": {
    "collapsed": true
   },
   "outputs": [],
   "source": [
    "picks = np.radians(data.as_matrix([\"pickup_longitude\", \"pickup_latitude\"]))\n",
    "drops = np.radians(data.as_matrix([\"dropoff_longitude\", \"dropoff_latitude\"]))\n",
    "p_inds = stations_kd.query(picks)\n",
    "d_inds = stations_kd.query(drops)"
   ]
  },
  {
   "cell_type": "code",
   "execution_count": 150,
   "metadata": {
    "collapsed": false
   },
   "outputs": [],
   "source": [
    "freqs = np.zeros((n_stations, n_stations), dtype=list)\n",
    "for i in tqdm.tqdm_notebook(range(p_inds[0].shape[0])):\n",
    "    t = data.pickup_datetime.iloc[i]\n",
    "    p_ind = p_inds[1][i][0]\n",
    "    d_ind = d_inds[1][i][0]\n",
    "    if freqs[p_ind][d_ind] == 0:\n",
    "        freqs[p_ind][d_ind] = list()\n",
    "    freqs[p_ind][d_ind].append(t)"
   ]
  },
  {
   "cell_type": "code",
   "execution_count": 151,
   "metadata": {
    "collapsed": false
   },
   "outputs": [
    {
     "data": {
      "text/plain": [
       "[<matplotlib.lines.Line2D at 0x7f0b49d97fd0>]"
      ]
     },
     "execution_count": 151,
     "metadata": {},
     "output_type": "execute_result"
    },
    {
     "data": {
      "image/png": "[encoded data removed]",
      "text/plain": [
       "<matplotlib.figure.Figure at 0x7f0b30612b90>"
      ]
     },
     "metadata": {},
     "output_type": "display_data"
    }
   ],
   "source": [
    "maxp = 0\n",
    "maxd = 0\n",
    "maxv = 0\n",
    "\"\"\"\n",
    "for i in xrange(n_stations):\n",
    "    for j in xrange(n_stations):\n",
    "        if freqs[i][j] != 0:\n",
    "            v = len(freqs[i][j])\n",
    "            if v > maxv:\n",
    "                maxv = v\n",
    "                maxp = i\n",
    "                maxd = j\n",
    "\"\"\"\n",
    "f = np.sort(freqs[140][190])\n",
    "plt.plot(f, range(len(f)))"
   ]
  },
  {
   "cell_type": "code",
   "execution_count": null,
   "metadata": {
    "collapsed": true
   },
   "outputs": [],
   "source": []
  }
 ],
 "metadata": {
  "kernelspec": {
   "display_name": "Python 2",
   "language": "python",
   "name": "python2"
  },
  "language_info": {
   "codemirror_mode": {
    "name": "ipython",
    "version": 2
   },
   "file_extension": ".py",
   "mimetype": "text/x-python",
   "name": "python",
   "nbconvert_exporter": "python",
   "pygments_lexer": "ipython2",
   "version": "2.7.6"
  },
  "widgets": {
   "state": {
    "5591b354df964ac885395077a7a562e2": {
     "views": [
      {
       "cell_index": 4
      }
     ]
    }
   },
   "version": "1.2.0"
  }
 },
 "nbformat": 4,
 "nbformat_minor": 0
}
