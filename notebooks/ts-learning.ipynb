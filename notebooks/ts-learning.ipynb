{
 "cells": [
  {
   "cell_type": "code",
   "execution_count": 72,
   "metadata": {
    "collapsed": false
   },
   "outputs": [
    {
     "name": "stdout",
     "output_type": "stream",
     "text": [
      "/home/wallar/projects/nyc-taxi-analysis\n"
     ]
    }
   ],
   "source": [
    "%matplotlib inline\n",
    "%cd /home/wallar/projects/nyc-taxi-analysis/"
   ]
  },
  {
   "cell_type": "code",
   "execution_count": 336,
   "metadata": {
    "collapsed": true
   },
   "outputs": [],
   "source": [
    "import pandas as pd\n",
    "import numpy as np\n",
    "import matplotlib.pyplot as plt\n",
    "import seaborn as sns"
   ]
  },
  {
   "cell_type": "code",
   "execution_count": 337,
   "metadata": {
    "collapsed": false
   },
   "outputs": [],
   "source": [
    "def load_data(p_st, d_st):\n",
    "    fname = \"data/ts/{}-{}.txt\".format(p_st, d_st)\n",
    "    df_options = {\"names\": [\"datetime\"],\n",
    "                  \"parse_dates\": [\"datetime\"],\n",
    "                  \"infer_datetime_format\": True,\n",
    "                  \"header\": None,\n",
    "                  \"squeeze\": True,\n",
    "                  \"skip_blank_lines\": True,\n",
    "                  \"index_col\": 0}\n",
    "    df = pd.read_csv(fname, **df_options)\n",
    "    df.sort_index(inplace=True)\n",
    "    #df.sort_values(0, inplace=True)\n",
    "    return df\n",
    "\n",
    "def query_time(df, start, end):\n",
    "    qstr = \"'{}' <= datetime < '{}'\".format(start, end)\n",
    "    return df.query(qstr)"
   ]
  },
  {
   "cell_type": "code",
   "execution_count": 341,
   "metadata": {
    "collapsed": false
   },
   "outputs": [
    {
     "name": "stdout",
     "output_type": "stream",
     "text": [
      "\n"
     ]
    }
   ],
   "source": [
    "import tqdm\n",
    "from itertools import product\n",
    "\n",
    "p, d = 0, 0\n",
    "max_size = 0\n",
    "N = 100\n",
    "total = 0\n",
    "for i, j in tqdm.tqdm_notebook(product(xrange(42), xrange(100)), total=42 * 100):\n",
    "    try:\n",
    "        df = load_data(i, j)\n",
    "        total += df.shape[0]\n",
    "        if df.shape[0] > max_size:\n",
    "            p, d = i, j\n",
    "            max_size = df.shape[0]\n",
    "    except IOError:\n",
    "        pass"
   ]
  },
  {
   "cell_type": "code",
   "execution_count": 347,
   "metadata": {
    "collapsed": false
   },
   "outputs": [
    {
     "name": "stdout",
     "output_type": "stream",
     "text": [
      "36 36 431496 97917438\n"
     ]
    },
    {
     "data": {
      "text/plain": [
       "[<matplotlib.lines.Line2D at 0x7f0b32d01090>]"
      ]
     },
     "execution_count": 347,
     "metadata": {},
     "output_type": "execute_result"
    },
    {
     "data": {
      "image/png": "[encoded data removed]",
      "text/plain": [
       "<matplotlib.figure.Figure at 0x7f0b2e1829d0>"
      ]
     },
     "metadata": {},
     "output_type": "display_data"
    }
   ],
   "source": [
    "print p, d, max_size, total\n",
    "df = load_data(p, d)\n",
    "df = df[\"2014-08-05 00:00\":\"2014-08-07 00:00\"]\n",
    "plt.plot(df.index, range(df.shape[0]))"
   ]
  },
  {
   "cell_type": "code",
   "execution_count": null,
   "metadata": {
    "collapsed": true
   },
   "outputs": [],
   "source": []
  }
 ],
 "metadata": {
  "kernelspec": {
   "display_name": "Python 2",
   "language": "python",
   "name": "python2"
  },
  "language_info": {
   "codemirror_mode": {
    "name": "ipython",
    "version": 2
   },
   "file_extension": ".py",
   "mimetype": "text/x-python",
   "name": "python",
   "nbconvert_exporter": "python",
   "pygments_lexer": "ipython2",
   "version": "2.7.6"
  },
  "widgets": {
   "state": {
    "9fe3d5a79ff04ad2897eceff36c93152": {
     "views": [
      {
       "cell_index": 3
      }
     ]
    }
   },
   "version": "1.2.0"
  }
 },
 "nbformat": 4,
 "nbformat_minor": 0
}
