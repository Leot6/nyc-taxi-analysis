{
 "cells": [
  {
   "cell_type": "code",
   "execution_count": 80,
   "metadata": {
    "collapsed": true
   },
   "outputs": [],
   "source": [
    "import pandas as pd\n",
    "import tabulate\n",
    "from geopy.distance import great_circle\n",
    "from __future__ import division\n",
    "\n",
    "times_fname = \"/home/wallar/projects/nyc-taxi-analysis/data/nyc-graph/week.csv\"\n",
    "edges_fname = \"/home/wallar/projects/nyc-taxi-analysis/data/nyc-graph/edges.csv\"\n",
    "nodes_fname = \"/home/wallar/projects/nyc-taxi-analysis/data/nyc-graph/points.csv\""
   ]
  },
  {
   "cell_type": "code",
   "execution_count": 81,
   "metadata": {
    "collapsed": false
   },
   "outputs": [],
   "source": [
    "times = pd.read_csv(times_fname, names=range(24))\n",
    "edges = pd.read_csv(edges_fname, names=[\"id\", \"source\", \"sink\"], index_col=\"id\")\n",
    "nodes = pd.read_csv(nodes_fname, names=[\"id\", \"lat\", \"lon\"], index_col=\"id\")"
   ]
  },
  {
   "cell_type": "code",
   "execution_count": 111,
   "metadata": {
    "collapsed": false
   },
   "outputs": [],
   "source": [
    "def get_geo_tuple(node):\n",
    "    return nodes.loc[node][\"lat\"], nodes.loc[node][\"lon\"]\n",
    "\n",
    "\n",
    "def compute_average_time():\n",
    "    total = None\n",
    "    mean_total = None\n",
    "    count = 0\n",
    "    for i, edge in edges.iterrows():\n",
    "        src = get_geo_tuple(edge[\"source\"])\n",
    "        sink = get_geo_tuple(edge[\"sink\"])\n",
    "        dist = great_circle(src, sink).meters\n",
    "        for j in xrange(times.loc[i].shape[0]):\n",
    "            if times.loc[i][j] < 1:\n",
    "                times.loc[i][j] = 1\n",
    "        if total is None:\n",
    "            total = 3.6 * dist / (times.loc[i])\n",
    "            mean_total = 3.6 * dist / (times.loc[i].mean())\n",
    "        else:\n",
    "            total += 3.6 * dist / (times.loc[i])\n",
    "            mean_total += 3.6 * dist / (times.loc[i].mean())\n",
    "        count += 1\n",
    "    return zip(range(24), (total / count).as_matrix()), mean_total / count"
   ]
  },
  {
   "cell_type": "code",
   "execution_count": 112,
   "metadata": {
    "collapsed": false
   },
   "outputs": [],
   "source": [
    "table, mean = compute_average_time()"
   ]
  },
  {
   "cell_type": "code",
   "execution_count": 114,
   "metadata": {
    "collapsed": false
   },
   "outputs": [
    {
     "name": "stdout",
     "output_type": "stream",
     "text": [
      "\\begin{tabular}{lr}\n",
      "\\hline\n",
      " Hour   &   Average Speed [km / h] \\\\\n",
      "\\hline\n",
      " 0      &                  30.6075 \\\\\n",
      " 1      &                  24.5275 \\\\\n",
      " 2      &                  21.6759 \\\\\n",
      " 3      &                  22.8617 \\\\\n",
      " 4      &                  19.3065 \\\\\n",
      " 5      &                  22.9868 \\\\\n",
      " 6      &                  22.057  \\\\\n",
      " 7      &                  22.773  \\\\\n",
      " 8      &                  19.866  \\\\\n",
      " 9      &                  20.9348 \\\\\n",
      " 10     &                  19.7517 \\\\\n",
      " 11     &                  20.0041 \\\\\n",
      " 12     &                  17.6686 \\\\\n",
      " 13     &                  18.4376 \\\\\n",
      " 14     &                  20.292  \\\\\n",
      " 15     &                  18.9005 \\\\\n",
      " 16     &                  22.4155 \\\\\n",
      " 17     &                  20.8044 \\\\\n",
      " 18     &                  23.0887 \\\\\n",
      " 19     &                  24.4517 \\\\\n",
      " 20     &                  24.0233 \\\\\n",
      " 21     &                  25.813  \\\\\n",
      " 22     &                  26.1941 \\\\\n",
      " 23     &                  29.3271 \\\\\n",
      " Mean   &                  17.3689 \\\\\n",
      "\\hline\n",
      "\\end{tabular}\n"
     ]
    }
   ],
   "source": [
    "print tabulate.tabulate(table + [(\"Mean\", mean)], [\"Hour\", \"Average Speed [km / h]\"], tablefmt=\"latex\")"
   ]
  },
  {
   "cell_type": "code",
   "execution_count": 147,
   "metadata": {
    "collapsed": false
   },
   "outputs": [],
   "source": [
    "%matplotlib inline\n",
    "import math\n",
    "import numpy as np\n",
    "import matplotlib.pyplot as plt\n",
    "\n",
    "@np.vectorize\n",
    "def upside_down_gauss(rate):\n",
    "    sigma = 50 * 1000.0 / 256;\n",
    "    mu = 500;\n",
    "    top = math.exp(-pow(rate - mu, 2) / (2 * pow(sigma, 2)));\n",
    "    bottom = math.sqrt(2 * math.pi * pow(sigma, 2));\n",
    "    return 1 - 200 * top / bottom;"
   ]
  },
  {
   "cell_type": "code",
   "execution_count": 148,
   "metadata": {
    "collapsed": false
   },
   "outputs": [
    {
     "data": {
      "text/plain": [
       "[<matplotlib.lines.Line2D at 0x7f90287e9cd0>]"
      ]
     },
     "execution_count": 148,
     "metadata": {},
     "output_type": "execute_result"
    },
    {
     "data": {
      "image/png": "[encoded data removed]",
      "text/plain": [
       "<matplotlib.figure.Figure at 0x7f9028928210>"
      ]
     },
     "metadata": {},
     "output_type": "display_data"
    }
   ],
   "source": [
    "rates = np.linspace(1, 1000, 256)\n",
    "ys = upside_down_gauss(rates)\n",
    "plt.plot(rates, ys)"
   ]
  },
  {
   "cell_type": "code",
   "execution_count": null,
   "metadata": {
    "collapsed": true
   },
   "outputs": [],
   "source": []
  },
  {
   "cell_type": "code",
   "execution_count": null,
   "metadata": {
    "collapsed": true
   },
   "outputs": [],
   "source": []
  }
 ],
 "metadata": {
  "kernelspec": {
   "display_name": "Python 2",
   "language": "python",
   "name": "python2"
  },
  "language_info": {
   "codemirror_mode": {
    "name": "ipython",
    "version": 2
   },
   "file_extension": ".py",
   "mimetype": "text/x-python",
   "name": "python",
   "nbconvert_exporter": "python",
   "pygments_lexer": "ipython2",
   "version": "2.7.6"
  }
 },
 "nbformat": 4,
 "nbformat_minor": 0
}
